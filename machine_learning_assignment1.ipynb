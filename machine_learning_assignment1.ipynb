{
 "cells": [
  {
   "cell_type": "markdown",
   "id": "f7baa1d2-1153-48ac-bcfe-c4fe60eee81f",
   "metadata": {},
   "source": [
    "# ANSWER 1\n",
    "\n",
    "Artificial intelligence involves replicating human intellectual processes through machines, especially computers. There are many applications of AI, such as expert systems, natural language processing, speech recognition, and machine vision.\n",
    "Online shopping and advertising.\n",
    "Web search. \n",
    "Digital personal assistants.\n",
    "Machine translations. \n",
    "Smart homes, cities and infrastructure.\n",
    "Cars.\n",
    "Cybersecurity.\n",
    "\n",
    " Machine learning is a branch of artificial intelligence (AI) and computer science which focuses on the use of data and algorithms to imitate the way that humans learn, gradually improving its accuracy.\n",
    "Examples of Machine Learning · \n",
    "1. Speech & Image Recognition · \n",
    "2. Traffic alerts using Google Map · \n",
    "3. Chatbot (Online Customer Support) · \n",
    "4. Google Translation \n",
    "\n",
    "Deep learning is a machine learning technique that teaches computers to do what comes naturally to humans: learn by example. Deep learning is a key technology behind driverless cars, enabling them to recognize a stop sign, or to distinguish a pedestrian from a lamppost."
   ]
  },
  {
   "cell_type": "markdown",
   "id": "5d0e508d-c9ad-4ede-aceb-3b73bb30d821",
   "metadata": {},
   "source": [
    "# ANSWER 2\n",
    "Supervised learning, also known as supervised machine learning, is a subcategory of machine learning and artificial intelligence. It is defined by its use of labeled datasets to train algorithms that to classify data or predict outcomes accurately. As input data is fed into the model, it adjusts its weights until the model has been fitted appropriately, which occurs as part of the cross validation process. Supervised learning helps organizations solve for a variety of real-world problems at scale, such as classifying spam in a separate folder from your inbox.\n",
    "\n",
    "Supervised learning models can be used to build and advance a number of business applications, including the following:\n",
    "\n",
    "1. Image- and object-recognition: Supervised learning algorithms can be used to locate, isolate, and categorize objects out of videos or images, making them useful when applied to various computer vision techniques and imagery analysis.\n",
    "2. Predictive analytics: A widespread use case for supervised learning models is in creating predictive analytics systems to provide deep insights into various business data points. This allows enterprises to anticipate certain results based on a given output variable, helping business leaders justify decisions or pivot for the benefit of the organization.\n",
    "3. Customer sentiment analysis: Using supervised machine learning algorithms, organizations can extract and classify important pieces of information from large volumes of data—including context, emotion, and intent—with very little human intervention. This can be incredibly useful when gaining a better understanding of customer interactions and can be used to improve brand engagement efforts.\n",
    "4. Spam detection: Spam detection is another example of a supervised learning model. Using supervised classification algorithms, organizations can train databases to recognize patterns or anomalies in new data to organize spam and non-spam-related correspondences effectively."
   ]
  },
  {
   "cell_type": "markdown",
   "id": "48969661-c4e1-4463-aa01-04dfeeea2fc0",
   "metadata": {},
   "source": [
    "# ANSWER 3 \n",
    "Unsupervised learning, also known as unsupervised machine learning, uses machine learning algorithms to analyze and cluster unlabeled datasets. These algorithms discover hidden patterns or data groupings without the need for human intervention. Its ability to discover similarities and differences in information make it the ideal solution for exploratory data analysis, cross-selling strategies, customer segmentation, and image recognition.\n",
    "\n",
    "Some of the most common real-world applications of unsupervised learning are:\n",
    "\n",
    "1. News Sections: Google News uses unsupervised learning to categorize articles on the same story from various online news outlets. For example, the results of a presidential election could be categorized under their label for “US” news.\n",
    "2. Computer vision: Unsupervised learning algorithms are used for visual perception tasks, such as object recognition.  \n",
    "3. Medical imaging: Unsupervised machine learning provides essential features to medical imaging devices, such as image detection, classification and segmentation, used in radiology and pathology to diagnose patients quickly and accurately.\n",
    "4. Anomaly detection: Unsupervised learning models can comb through large amounts of data and discover atypical data points within a dataset. These anomalies can raise awareness around faulty equipment, human error, or breaches in security.\n",
    "5. Customer personas: Defining customer personas makes it easier to understand common traits and business clients' purchasing habits. Unsupervised learning allows businesses to build better buyer persona profiles, enabling organizations to align their product messaging more appropriately.\n",
    "6. Recommendation Engines: Using past purchase behavior data, unsupervised learning can help to discover data trends that can be used to develop more effective cross-selling strategies. This is used to make relevant add-on recommendations to customers during the checkout process for online retailers."
   ]
  },
  {
   "cell_type": "markdown",
   "id": "aee0b486-c968-49d7-a2fa-558cd1006ed1",
   "metadata": {},
   "source": [
    "# ANSWER 4\n",
    "## Artificial Intelligence (AI) enables machines to think by understanding, learning from the data, and taking decisions based on patterns hidden in the data or make inferences that would otherwise be very difficult for humans to make manually. The end goal of using ML or DL is to create an AI application or machine as smart as humans.\n",
    "\n",
    "## Machine Learning (ML) is a subset of AI; it provides us statistical tools/techniques like Supervised, Unsupervised, and Reinforcement learning to explore and analyze the data.\n",
    "\n",
    "## Deep Learning (DL) is further a subset of ML, and the main idea behind it is to make machines learn by mimicking the human brain. Here, we create a multi neural network architecture with the help of different techniques like ANN, CNN, and RNN.\n",
    "\n",
    "## Data Science (DS) is basically drawing insights from structured and unstructured data either by using ML or DL or without these techniques. We can even use different visualization tools, statistics, and probability to gain these insights."
   ]
  },
  {
   "cell_type": "markdown",
   "id": "1fcea399-bb52-415d-ba73-46deb09d4c4a",
   "metadata": {},
   "source": [
    "# ANSWER 5\n",
    "In supervised learning, the algorithm “learns” from the training dataset by iteratively making predictions on the data and adjusting for the correct answer. While supervised learning models tend to be more accurate than unsupervised learning models, they require upfront human intervention to label the data appropriately. For example, a supervised learning model can predict how long your commute will be based on the time of day, weather conditions and so on. But first, you’ll have to train it to know that rainy weather extends the driving time.\n",
    "\n",
    "Unsupervised learning models, in contrast, work on their own to discover the inherent structure of unlabeled data. Note that they still require some human intervention for validating output variables. For example, an unsupervised learning model can identify that online shoppers often purchase groups of products at the same time. However, a data analyst would need to validate that it makes sense for a recommendation engine to group baby clothes with an order of diapers, applesauce and sippy cups.\n",
    "\n",
    "Semi-supervised learning is a happy medium, where you use a training dataset with both labeled and unlabeled data. It’s particularly useful when it’s difficult to extract relevant features from data — and when you have a high volume of data.\n",
    "Semi-supervised learning is ideal for medical images, where a small amount of training data can lead to a significant improvement in accuracy. For example, a radiologist can label a small subset of CT scans for tumors or diseases so the machine can more accurately predict which patients might require more medical attention."
   ]
  },
  {
   "cell_type": "markdown",
   "id": "c241d64b-b5bc-4af4-9fc0-99464f65306f",
   "metadata": {},
   "source": [
    "# ANSWER 6\n",
    "Training data is the set of the data on which the actual training takes place. Validation split helps to improve the model performance by fine-tuning the model after each epoch. The test set informs us about the final accuracy of the model after completing the training phase."
   ]
  },
  {
   "cell_type": "markdown",
   "id": "0b357364-3448-4548-bfff-db1347586de9",
   "metadata": {},
   "source": [
    "# ANSWER 7\n",
    "Anomaly detection techniques of unsupervised nature assume that normal data points occur considerably more frequently than anomalous data points. This assumption is used to classify data points that occur less frequently as anomalies. Unsupervised techniques assign each data point a score instead of a label."
   ]
  },
  {
   "cell_type": "markdown",
   "id": "e1b62b9c-dafe-44ed-a6c5-947a99460e7a",
   "metadata": {},
   "source": [
    "# ANSWER 8\n",
    "## The most commonly used Supervised Learning algorithms are decision tree, logistic regression, linear regression, support vector machine.\n",
    "## The most commonly used Unsupervised Learning algorithms are k-means clustering, hierarchical clustering, and apriori algorithm."
   ]
  },
  {
   "cell_type": "code",
   "execution_count": null,
   "id": "d3c3c96a-ddd1-4460-b9f0-849d5e254cca",
   "metadata": {},
   "outputs": [],
   "source": []
  }
 ],
 "metadata": {
  "kernelspec": {
   "display_name": "Python 3 (ipykernel)",
   "language": "python",
   "name": "python3"
  },
  "language_info": {
   "codemirror_mode": {
    "name": "ipython",
    "version": 3
   },
   "file_extension": ".py",
   "mimetype": "text/x-python",
   "name": "python",
   "nbconvert_exporter": "python",
   "pygments_lexer": "ipython3",
   "version": "3.10.8"
  }
 },
 "nbformat": 4,
 "nbformat_minor": 5
}
